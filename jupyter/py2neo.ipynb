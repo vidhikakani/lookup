{
 "cells": [
  {
   "cell_type": "markdown",
   "id": "f69da0f1",
   "metadata": {},
   "source": [
    "# Python Script for Neo4J"
   ]
  },
  {
   "cell_type": "markdown",
   "id": "025485f7",
   "metadata": {},
   "source": [
    "### This python script connects to Neo4j graph DB and creates Nodes and Relationships\n",
    "\n",
    "###### Nodes\n",
    "1. User\n",
    "2. Business\n",
    "3. Review\n",
    "4. Zipcode\n",
    "5. Event\n",
    "\n",
    "##### Relationships\n",
    "1. (:User) - [:`Requested Services From`] -> (:Business)\n",
    "2. (:Business) - [:`Located In`] -> (:Zipcode)\n",
    "3. (:Zipcode) - [:`Has`] -> (:Event)\n",
    "4. (:User) - [:`Reviewed`] -> (:Business)"
   ]
  },
  {
   "cell_type": "code",
   "execution_count": 1,
   "id": "b7d3d349",
   "metadata": {},
   "outputs": [
    {
     "name": "stdout",
     "output_type": "stream",
     "text": [
      "Collecting py2neo\n",
      "  Downloading py2neo-2021.2.3-py2.py3-none-any.whl (177 kB)\n",
      "     |████████████████████████████████| 177 kB 1.9 MB/s            \n",
      "\u001b[?25hRequirement already satisfied: pygments>=2.0.0 in /opt/conda/lib/python3.9/site-packages (from py2neo) (2.10.0)\n",
      "Requirement already satisfied: packaging in /opt/conda/lib/python3.9/site-packages (from py2neo) (21.2)\n",
      "Requirement already satisfied: urllib3 in /opt/conda/lib/python3.9/site-packages (from py2neo) (1.26.7)\n",
      "Collecting pansi>=2020.7.3\n",
      "  Downloading pansi-2020.7.3-py2.py3-none-any.whl (10 kB)\n",
      "Requirement already satisfied: six>=1.15.0 in /opt/conda/lib/python3.9/site-packages (from py2neo) (1.16.0)\n",
      "Requirement already satisfied: certifi in /opt/conda/lib/python3.9/site-packages (from py2neo) (2021.10.8)\n",
      "Collecting monotonic\n",
      "  Downloading monotonic-1.6-py2.py3-none-any.whl (8.2 kB)\n",
      "Collecting interchange~=2021.0.4\n",
      "  Downloading interchange-2021.0.4-py2.py3-none-any.whl (28 kB)\n",
      "Requirement already satisfied: pytz in /opt/conda/lib/python3.9/site-packages (from interchange~=2021.0.4->py2neo) (2021.3)\n",
      "Requirement already satisfied: pyparsing<3,>=2.0.2 in /opt/conda/lib/python3.9/site-packages (from packaging->py2neo) (2.4.7)\n",
      "Installing collected packages: pansi, monotonic, interchange, py2neo\n",
      "Successfully installed interchange-2021.0.4 monotonic-1.6 pansi-2020.7.3 py2neo-2021.2.3\n",
      "Requirement already satisfied: pandas in /opt/conda/lib/python3.9/site-packages (1.3.4)\n",
      "Requirement already satisfied: python-dateutil>=2.7.3 in /opt/conda/lib/python3.9/site-packages (from pandas) (2.8.2)\n",
      "Requirement already satisfied: pytz>=2017.3 in /opt/conda/lib/python3.9/site-packages (from pandas) (2021.3)\n",
      "Requirement already satisfied: numpy>=1.17.3 in /opt/conda/lib/python3.9/site-packages (from pandas) (1.20.3)\n",
      "Requirement already satisfied: six>=1.5 in /opt/conda/lib/python3.9/site-packages (from python-dateutil>=2.7.3->pandas) (1.16.0)\n"
     ]
    }
   ],
   "source": [
    "# Install required dependencies\n",
    "!pip install py2neo\n",
    "!pip install pandas"
   ]
  },
  {
   "cell_type": "code",
   "execution_count": 2,
   "id": "d56a78c5",
   "metadata": {},
   "outputs": [],
   "source": [
    "# Import dependencies\n",
    "from py2neo import Graph, Node, Relationship, NodeMatcher\n",
    "from py2neo.bulk import create_nodes\n",
    "import pandas as pd\n",
    "import json"
   ]
  },
  {
   "cell_type": "code",
   "execution_count": 3,
   "id": "574798f0",
   "metadata": {},
   "outputs": [],
   "source": [
    "# Connect to Graph DB\n",
    "graph = Graph(\"http://neo4j:7474/db/data/\", auth=(\"neo4j\", \"root\"))"
   ]
  },
  {
   "cell_type": "code",
   "execution_count": 4,
   "id": "5efe85d0",
   "metadata": {},
   "outputs": [
    {
     "data": {
      "text/html": [
       "(No data)"
      ],
      "text/plain": [
       "(No data)"
      ]
     },
     "execution_count": 4,
     "metadata": {},
     "output_type": "execute_result"
    }
   ],
   "source": [
    "# Delete all Nodes and Relationships of Graph DB\n",
    "graph.run(\"MATCH (a) DETACH DELETE a\")"
   ]
  },
  {
   "cell_type": "code",
   "execution_count": 5,
   "id": "2f9d469b",
   "metadata": {},
   "outputs": [],
   "source": [
    "# Convert the users data into pandas dataframe\n",
    "users_df = pd.read_csv('./data-export/pg/users', delimiter=\",\")  "
   ]
  },
  {
   "cell_type": "code",
   "execution_count": 6,
   "id": "f3438828",
   "metadata": {},
   "outputs": [],
   "source": [
    "# Convert records to dictionary\n",
    "users_dict = users_df.to_dict('records')"
   ]
  },
  {
   "cell_type": "code",
   "execution_count": 7,
   "id": "eb5509f7",
   "metadata": {},
   "outputs": [],
   "source": [
    "# Create User Node\n",
    "create_nodes(graph.auto(), users_dict, labels={\"User\"})"
   ]
  },
  {
   "cell_type": "code",
   "execution_count": 8,
   "id": "cc881c11",
   "metadata": {},
   "outputs": [],
   "source": [
    "# Convert the orders data into pandas dataframe\n",
    "orders_df = pd.read_csv('./data-export/pg/orders', delimiter=\",\") "
   ]
  },
  {
   "cell_type": "code",
   "execution_count": 9,
   "id": "106afefb",
   "metadata": {},
   "outputs": [],
   "source": [
    "# Convert records to dictionary\n",
    "orders_dict = orders_df.to_dict('records')"
   ]
  },
  {
   "cell_type": "code",
   "execution_count": 10,
   "id": "9e4b102c",
   "metadata": {},
   "outputs": [],
   "source": [
    "business_ids = set()\n",
    "\n",
    "for order in orders_dict:\n",
    "    business_ids.add(order[\"businessId\"])"
   ]
  },
  {
   "cell_type": "code",
   "execution_count": 11,
   "id": "cc8d8d4a",
   "metadata": {},
   "outputs": [],
   "source": [
    "# Load yelp businesses \n",
    "\n",
    "businesses = []\n",
    "with open('./data-export/mongo/yelp_businesses.json') as json_file:\n",
    "    businesses = json.load(json_file)"
   ]
  },
  {
   "cell_type": "code",
   "execution_count": 12,
   "id": "6ea492af",
   "metadata": {},
   "outputs": [],
   "source": [
    "# Create Business Nodes\n",
    "\n",
    "for business in businesses:\n",
    "    for bid in business_ids:\n",
    "        if business[\"id\"] == bid:\n",
    "            new_business = {\n",
    "                \"id\": bid, \n",
    "                \"name\": business[\"name\"], \n",
    "                \"city\": business[\"location\"][\"city\"], \n",
    "                \"zipcode\": business[\"location\"][\"zip_code\"],\n",
    "                \"state\": business[\"location\"][\"state\"],\n",
    "                \"country\": business[\"location\"][\"country\"],\n",
    "                \"categories\": [b[\"title\"] for b in business[\"categories\"]],\n",
    "                \"rating\": business[\"rating\"],\n",
    "                \"review_count\": business[\"review_count\"]\n",
    "            }\n",
    "            graph.create(Node(\"Business\", **new_business))"
   ]
  },
  {
   "cell_type": "code",
   "execution_count": 13,
   "id": "ebea72ca",
   "metadata": {},
   "outputs": [],
   "source": [
    "users = []\n",
    "\n",
    "for user in users_dict:\n",
    "    for order in orders_dict:\n",
    "        if user[\"id\"] == order[\"userId\"]:\n",
    "            newData = {\n",
    "                \"id\": user[\"id\"],\n",
    "                \"firstName\": user[\"firstName\"],\n",
    "                \"lastName\": user[\"lastName\"],\n",
    "                \"businessId\": order[\"businessId\"],\n",
    "                \"businessName,\": order[\"businessName\"],\n",
    "                \"serviceType\": order[\"serviceType\"],\n",
    "                \"address\": order[\"address\"]\n",
    "            }\n",
    "            users.append(newData)"
   ]
  },
  {
   "cell_type": "code",
   "execution_count": 14,
   "id": "0f8dbe47",
   "metadata": {},
   "outputs": [],
   "source": [
    "# Create Relationship [:`Requested Services From`] between User and Business\n",
    "\n",
    "matcher = NodeMatcher(graph)\n",
    "\n",
    "for user in users:\n",
    "    user_id = user[\"id\"]\n",
    "    for business in businesses:\n",
    "        business_id = business[\"id\"]\n",
    "        for bid in business_ids:\n",
    "            if bid == business_id and user[\"businessId\"] == business_id:\n",
    "                leftNode = matcher.match(\"User\", id=user_id)\n",
    "                for left in leftNode:\n",
    "                    rightNode = matcher.match(\"Business\", id=business_id)\n",
    "                    for right in rightNode:\n",
    "                        relation = Relationship(left, \"Requested Services From\", right)\n",
    "                        graph.create(relation)"
   ]
  },
  {
   "cell_type": "code",
   "execution_count": 15,
   "id": "31063dac",
   "metadata": {},
   "outputs": [],
   "source": [
    "city_set = set()\n",
    "zipcode_set = set()\n",
    "\n",
    "for business in businesses:\n",
    "    city = business[\"location\"][\"city\"]\n",
    "    zipcode = business[\"location\"][\"zip_code\"]\n",
    "    \n",
    "    city_set.add(city)\n",
    "    zipcode_set.add(str(zipcode))"
   ]
  },
  {
   "cell_type": "code",
   "execution_count": 16,
   "id": "74cab3af",
   "metadata": {},
   "outputs": [],
   "source": [
    "# for city in city_set:\n",
    "#     graph.create(Node(\"City\", city=city))"
   ]
  },
  {
   "cell_type": "code",
   "execution_count": 17,
   "id": "a036f3cf",
   "metadata": {},
   "outputs": [],
   "source": [
    "# Create Zipcode Nodes\n",
    "\n",
    "for zipcode in zipcode_set:\n",
    "    graph.create(Node(\"Zipcode\", zipcode=zipcode))"
   ]
  },
  {
   "cell_type": "code",
   "execution_count": 18,
   "id": "b1c97ea7",
   "metadata": {},
   "outputs": [],
   "source": [
    "# Create Relationship[:`Located In`] between Business and Zipcode \n",
    "\n",
    "for business in businesses:\n",
    "    zipcode = business[\"location\"][\"zip_code\"]\n",
    "    business_id = business[\"id\"]\n",
    "    for bid in business_ids:\n",
    "        if bid == business_id:\n",
    "            leftNode = matcher.match(\"Business\", id=business_id)\n",
    "            for left in leftNode:\n",
    "                rightNode = matcher.match(\"Zipcode\", zipcode=zipcode)\n",
    "                for right in rightNode:\n",
    "                    relation = Relationship(left, \"Located In\", right)\n",
    "                    graph.create(relation)"
   ]
  },
  {
   "cell_type": "code",
   "execution_count": 19,
   "id": "85bcfc33",
   "metadata": {},
   "outputs": [],
   "source": [
    "# Load Yelp Events data\n",
    "\n",
    "events = []\n",
    "with open('./data-export/mongo/yelp_events.json') as json_file:\n",
    "    events = json.load(json_file)"
   ]
  },
  {
   "cell_type": "code",
   "execution_count": 20,
   "id": "887167de",
   "metadata": {},
   "outputs": [],
   "source": [
    "# Create Event Nodes\n",
    "\n",
    "for event in events:\n",
    "    new_event = {\n",
    "        \"id\": event[\"id\"], \n",
    "        \"name\": event[\"name\"], \n",
    "        \"city\": event[\"location\"][\"city\"], \n",
    "        \"zipcode\": event[\"location\"][\"zip_code\"],\n",
    "        \"state\": event[\"location\"][\"state\"],\n",
    "        \"country\": event[\"location\"][\"country\"],\n",
    "        \"category\": event[\"category\"],\n",
    "        \"attending_count\": event[\"attending_count\"],\n",
    "        \"description\": event[\"description\"]\n",
    "    }\n",
    "    graph.create(Node(\"Event\", **new_event))"
   ]
  },
  {
   "cell_type": "code",
   "execution_count": 21,
   "id": "c1e17137",
   "metadata": {},
   "outputs": [],
   "source": [
    "# for city in city_set:\n",
    "#     for event in events:\n",
    "#         if city == event[\"location\"][\"city\"]:\n",
    "#             leftNode = list(matcher.match(\"City\").where(\"_.city='\" + city + \"'\"))\n",
    "#             for left in leftNode:\n",
    "#                 rightNode = list(matcher.match(\"Event\").where(\"_.city='\" + city + \"'\"))\n",
    "#                 for right in rightNode:\n",
    "#                     relation = Relationship(left, \"Has\", right)\n",
    "#                     graph.create(relation)"
   ]
  },
  {
   "cell_type": "code",
   "execution_count": 22,
   "id": "1ec54cd5",
   "metadata": {},
   "outputs": [],
   "source": [
    "# Create Relationship [: Has] between Zipcode and Event\n",
    "\n",
    "for zipcode in zipcode_set:\n",
    "    for event in events:\n",
    "        if zipcode == event[\"location\"][\"zip_code\"]:\n",
    "            leftNode = list(matcher.match(\"Zipcode\").where(\"_.zipcode='\" + zipcode + \"'\"))\n",
    "            for left in leftNode:\n",
    "                rightNode = list(matcher.match(\"Event\").where(\"_.zipcode='\" + zipcode + \"'\"))\n",
    "                for right in rightNode:\n",
    "                    relation = Relationship(left, \"Has\", right)\n",
    "                    graph.create(relation)"
   ]
  },
  {
   "cell_type": "code",
   "execution_count": 23,
   "id": "3bf0f480",
   "metadata": {},
   "outputs": [],
   "source": [
    "# Load User Reviews data\n",
    "\n",
    "reviews = []\n",
    "with open('./data-export/mongo/lookup_reviews.json') as json_file:\n",
    "    reviews = json.load(json_file)"
   ]
  },
  {
   "cell_type": "code",
   "execution_count": 24,
   "id": "e4fd197b",
   "metadata": {},
   "outputs": [],
   "source": [
    "# Create Review Nodes\n",
    "\n",
    "for review in reviews:\n",
    "    new_review = {\n",
    "        \"business_id\": review[\"business_id\"], \n",
    "        \"text\": review[\"text\"], \n",
    "        \"rating\": review[\"rating\"], \n",
    "        \"user\": review[\"user\"][\"name\"]\n",
    "    }\n",
    "    graph.create(Node(\"Review\", **new_review))"
   ]
  },
  {
   "cell_type": "code",
   "execution_count": 25,
   "id": "70e94b49",
   "metadata": {},
   "outputs": [],
   "source": [
    "# Create Relationship [:Reviewed] between User and Review\n",
    "\n",
    "for user in users:\n",
    "    name = user[\"firstName\"] + \", \" + user[\"lastName\"]\n",
    "    for review in reviews:\n",
    "        username = review[\"user\"][\"name\"]\n",
    "        businessId = review[\"business_id\"]\n",
    "        if name == username:\n",
    "            leftNode = list(matcher.match(\"User\")\n",
    "                            .where(\"_.firstName=~ '\" + user[\"firstName\"] +\"'  \")\n",
    "                            .where(\"_.lastName=~ '\" + user[\"lastName\"] + \"' \")\n",
    "                           )\n",
    "            for left in leftNode:\n",
    "                rightNode = list(matcher.match(\"Business\").where(\"_.id='\" + businessId + \"'\"))\n",
    "                for right in rightNode:\n",
    "                    relation = Relationship(left, \"Reviewed\", right)\n",
    "                    graph.create(relation)"
   ]
  },
  {
   "cell_type": "code",
   "execution_count": null,
   "id": "21274d70",
   "metadata": {},
   "outputs": [],
   "source": []
  }
 ],
 "metadata": {
  "kernelspec": {
   "display_name": "Python 3 (ipykernel)",
   "language": "python",
   "name": "python3"
  },
  "language_info": {
   "codemirror_mode": {
    "name": "ipython",
    "version": 3
   },
   "file_extension": ".py",
   "mimetype": "text/x-python",
   "name": "python",
   "nbconvert_exporter": "python",
   "pygments_lexer": "ipython3",
   "version": "3.9.7"
  }
 },
 "nbformat": 4,
 "nbformat_minor": 5
}
