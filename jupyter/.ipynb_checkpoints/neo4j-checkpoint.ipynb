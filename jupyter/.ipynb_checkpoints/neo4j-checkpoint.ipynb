{
 "cells": [
  {
   "cell_type": "code",
   "execution_count": 11,
   "id": "e10b1a6c",
   "metadata": {},
   "outputs": [
    {
     "name": "stdout",
     "output_type": "stream",
     "text": [
      "Requirement already satisfied: py2neo in /opt/conda/lib/python3.9/site-packages (2021.2.3)\n",
      "Requirement already satisfied: certifi in /opt/conda/lib/python3.9/site-packages (from py2neo) (2021.10.8)\n",
      "Requirement already satisfied: six>=1.15.0 in /opt/conda/lib/python3.9/site-packages (from py2neo) (1.16.0)\n",
      "Requirement already satisfied: pansi>=2020.7.3 in /opt/conda/lib/python3.9/site-packages (from py2neo) (2020.7.3)\n",
      "Requirement already satisfied: packaging in /opt/conda/lib/python3.9/site-packages (from py2neo) (21.3)\n",
      "Requirement already satisfied: urllib3 in /opt/conda/lib/python3.9/site-packages (from py2neo) (1.26.7)\n",
      "Requirement already satisfied: monotonic in /opt/conda/lib/python3.9/site-packages (from py2neo) (1.6)\n",
      "Requirement already satisfied: interchange~=2021.0.4 in /opt/conda/lib/python3.9/site-packages (from py2neo) (2021.0.4)\n",
      "Requirement already satisfied: pygments>=2.0.0 in /opt/conda/lib/python3.9/site-packages (from py2neo) (2.10.0)\n",
      "Requirement already satisfied: pytz in /opt/conda/lib/python3.9/site-packages (from interchange~=2021.0.4->py2neo) (2021.3)\n",
      "Requirement already satisfied: pyparsing!=3.0.5,>=2.0.2 in /opt/conda/lib/python3.9/site-packages (from packaging->py2neo) (3.0.6)\n",
      "Collecting pandas\n",
      "  Downloading pandas-1.3.4-cp39-cp39-manylinux_2_17_x86_64.manylinux2014_x86_64.whl (11.5 MB)\n",
      "     |████████████████████████████████| 11.5 MB 5.4 MB/s            \n",
      "\u001b[?25hRequirement already satisfied: pytz>=2017.3 in /opt/conda/lib/python3.9/site-packages (from pandas) (2021.3)\n",
      "Collecting numpy>=1.17.3\n",
      "  Downloading numpy-1.21.4-cp39-cp39-manylinux_2_12_x86_64.manylinux2010_x86_64.whl (15.7 MB)\n",
      "     |████████████████████████████████| 15.7 MB 3.6 MB/s             \n",
      "\u001b[?25hRequirement already satisfied: python-dateutil>=2.7.3 in /opt/conda/lib/python3.9/site-packages (from pandas) (2.8.2)\n",
      "Requirement already satisfied: six>=1.5 in /opt/conda/lib/python3.9/site-packages (from python-dateutil>=2.7.3->pandas) (1.16.0)\n",
      "Installing collected packages: numpy, pandas\n",
      "Successfully installed numpy-1.21.4 pandas-1.3.4\n"
     ]
    }
   ],
   "source": [
    "!pip install py2neo\n",
    "!pip install pandas"
   ]
  },
  {
   "cell_type": "code",
   "execution_count": 100,
   "id": "bc961f70",
   "metadata": {},
   "outputs": [],
   "source": [
    "from py2neo import Graph, Node, Relationship, NodeMatcher\n",
    "from py2neo.bulk import create_nodes\n",
    "g = Graph(\"http://neo4j:7474/db/data/\", auth=(\"neo4j\", \"root\"))"
   ]
  },
  {
   "cell_type": "code",
   "execution_count": 101,
   "id": "47e5d878",
   "metadata": {},
   "outputs": [],
   "source": [
    "import pandas as pd"
   ]
  },
  {
   "cell_type": "code",
   "execution_count": 107,
   "id": "4f2805b5",
   "metadata": {},
   "outputs": [],
   "source": [
    "users_df = pd.read_csv('./data-export/pg/users', delimiter=\",\")  "
   ]
  },
  {
   "cell_type": "code",
   "execution_count": 108,
   "id": "ad3a6337",
   "metadata": {},
   "outputs": [],
   "source": [
    "users_dict = users_df.to_dict('records')"
   ]
  },
  {
   "cell_type": "code",
   "execution_count": 109,
   "id": "052ac767",
   "metadata": {},
   "outputs": [
    {
     "data": {
      "text/plain": [
       "[{'id': 1, 'firstName': 'rahul', 'lastName': 'n'},\n",
       " {'id': 2, 'firstName': 'Rahul', 'lastName': 'Mud'},\n",
       " {'id': 3, 'firstName': 'Vi', 'lastName': 'Ka'},\n",
       " {'id': 4, 'firstName': 'Aman', 'lastName': 'K'},\n",
       " {'id': 5, 'firstName': 'ayush', 'lastName': 'k'},\n",
       " {'id': 6, 'firstName': 'Sanjay', 'lastName': 'R'}]"
      ]
     },
     "execution_count": 109,
     "metadata": {},
     "output_type": "execute_result"
    }
   ],
   "source": [
    "users_dict"
   ]
  },
  {
   "cell_type": "code",
   "execution_count": 110,
   "id": "8d2e0a3e",
   "metadata": {},
   "outputs": [],
   "source": [
    "create_nodes(g.auto(), users_dict, labels={\"User\"})"
   ]
  },
  {
   "cell_type": "code",
   "execution_count": 111,
   "id": "cb7591d3",
   "metadata": {},
   "outputs": [
    {
     "data": {
      "text/plain": [
       "[{'n.id': 1}, {'n.id': 2}, {'n.id': 3}, {'n.id': 4}, {'n.id': 5}, {'n.id': 6}]"
      ]
     },
     "execution_count": 111,
     "metadata": {},
     "output_type": "execute_result"
    }
   ],
   "source": [
    "users = g.run(\"MATCH (n:User) RETURN n.id\").data()"
   ]
  },
  {
   "cell_type": "code",
   "execution_count": 112,
   "id": "1feb4491",
   "metadata": {},
   "outputs": [],
   "source": [
    "orders_df = pd.read_csv('./data-export/pg/orders', delimiter=\",\")  "
   ]
  },
  {
   "cell_type": "code",
   "execution_count": 113,
   "id": "f214efa1",
   "metadata": {},
   "outputs": [],
   "source": [
    "orders_dict = orders_df.to_dict('records')"
   ]
  },
  {
   "cell_type": "code",
   "execution_count": 114,
   "id": "fa215de2",
   "metadata": {},
   "outputs": [],
   "source": [
    "create_nodes(g.auto(), orders_dict, labels={\"Order\"})"
   ]
  },
  {
   "cell_type": "code",
   "execution_count": 115,
   "id": "0bc30f37",
   "metadata": {},
   "outputs": [
    {
     "data": {
      "text/plain": [
       "[{'o.id': 5, 'o.userId': 4},\n",
       " {'o.id': 6, 'o.userId': 4},\n",
       " {'o.id': 7, 'o.userId': 5},\n",
       " {'o.id': 8, 'o.userId': 5},\n",
       " {'o.id': 9, 'o.userId': 5},\n",
       " {'o.id': 10, 'o.userId': 5},\n",
       " {'o.id': 11, 'o.userId': 6},\n",
       " {'o.id': 12, 'o.userId': 6},\n",
       " {'o.id': 1, 'o.userId': 1},\n",
       " {'o.id': 2, 'o.userId': 1},\n",
       " {'o.id': 3, 'o.userId': 2},\n",
       " {'o.id': 4, 'o.userId': 4}]"
      ]
     },
     "execution_count": 115,
     "metadata": {},
     "output_type": "execute_result"
    }
   ],
   "source": [
    "orders = g.run(\"MATCH (o:Order) RETURN o.id, o.userId\").data()"
   ]
  },
  {
   "cell_type": "code",
   "execution_count": 129,
   "id": "c64e83a2",
   "metadata": {},
   "outputs": [],
   "source": [
    "for user in users:\n",
    "    for order in orders:\n",
    "        user_id = user[\"n.id\"]\n",
    "        order_id = order[\"o.id\"]\n",
    "        cql1 = \"match(n:User {id: \" + str(user_id) + \" }) return n limit 1\"\n",
    "        cql2 = \"match(n:Order {id: \" + str(order_id) + \"}) return n limit 1\"\n",
    "        if user[\"n.id\"] == order[\"o.userId\"]:\n",
    "            leftNode = g.run(cql1)\n",
    "            for left in leftNode:\n",
    "                rightNode = g.run(cql2)\n",
    "                for right in rightNode:\n",
    "                    relation = Relationship(left[0], \"Requested Services From\", right[0])\n",
    "                    g.create(relation)"
   ]
  },
  {
   "cell_type": "code",
   "execution_count": 130,
   "id": "1ead8a08",
   "metadata": {},
   "outputs": [],
   "source": [
    "orders = g.run(\"MATCH (o:Order) RETURN o\").data()"
   ]
  },
  {
   "cell_type": "code",
   "execution_count": 140,
   "id": "b31b24a4",
   "metadata": {},
   "outputs": [],
   "source": [
    "zipcode_set = set()\n",
    "city_set = set()\n",
    "businesses = {}"
   ]
  },
  {
   "cell_type": "code",
   "execution_count": 157,
   "id": "cba8bb50",
   "metadata": {},
   "outputs": [],
   "source": [
    "import json\n",
    "\n",
    "# Opening JSON file\n",
    "with open('./data-export/mongo/yelp_businesses.json') as json_file:\n",
    "    businesses = json.load(json_file)"
   ]
  },
  {
   "cell_type": "code",
   "execution_count": 162,
   "id": "a1d62b85",
   "metadata": {},
   "outputs": [],
   "source": [
    "for business in businesses:\n",
    "    if (business[\"location\"] and business[\"location\"][\"city\"]):\n",
    "        city_set.add(business[\"location\"][\"city\"])\n",
    "    if (business[\"location\"] and business[\"location\"][\"zip_code\"]):\n",
    "        zipcode_set.add(business[\"location\"][\"zip_code\"])\n"
   ]
  },
  {
   "cell_type": "code",
   "execution_count": 163,
   "id": "b160eea6",
   "metadata": {},
   "outputs": [],
   "source": [
    "for zipcode in zipcode_set:\n",
    "    ZIPCODE = g.create(Node(\"Zipcode\", zipcode=zipcode))"
   ]
  },
  {
   "cell_type": "code",
   "execution_count": 164,
   "id": "851138b0",
   "metadata": {},
   "outputs": [],
   "source": [
    "for city in city_set:\n",
    "    CITY = g.create(Node(\"City\", city=city))"
   ]
  },
  {
   "cell_type": "code",
   "execution_count": 200,
   "id": "cdc3d161",
   "metadata": {},
   "outputs": [],
   "source": [
    "for i in range(len(orders)):\n",
    "    order_id = orders[i][\"o\"][\"id\"]\n",
    "    address = orders[i][\"o\"][\"address\"]\n",
    "    [_, city, state] = address.split(\", \")\n",
    "    [_, zipcode] = state.split(\" - \")\n",
    "    cql1 = \"match(n:Order {id: \" + str(order_id) + \"}) return n limit 1\"\n",
    "    cql2 = \"match(n:City) WHERE n.city='\" + city +\"' return n\"\n",
    "    leftNode = g.run(cql1)\n",
    "    for left in leftNode:\n",
    "        rightNode = g.run(cql2)\n",
    "        for right in rightNode:\n",
    "                relation = Relationship(left[0], \"Located In\", right[0])\n",
    "                g.create(relation)"
   ]
  },
  {
   "cell_type": "code",
   "execution_count": 202,
   "id": "e6404728",
   "metadata": {},
   "outputs": [],
   "source": [
    "for i in range(len(orders)):\n",
    "    order_id = orders[i][\"o\"][\"id\"]\n",
    "    address = orders[i][\"o\"][\"address\"]\n",
    "    [_, city, state] = address.split(\", \")\n",
    "    [_, zipcode] = state.split(\" - \")\n",
    "    cql1 = \"match(n:City) WHERE n.city='\" + city +\"' return n\"\n",
    "    cql2 = \"match(n:Zipcode) WHERE n.zipcode='\" + zipcode +\"' return n\"\n",
    "    leftNode = g.run(cql1)\n",
    "    for left in leftNode:\n",
    "        rightNode = g.run(cql2)\n",
    "        for right in rightNode:\n",
    "                relation = Relationship(left[0], \"Has\", right[0])\n",
    "                g.create(relation)"
   ]
  },
  {
   "cell_type": "code",
   "execution_count": null,
   "id": "a112af91",
   "metadata": {},
   "outputs": [],
   "source": []
  }
 ],
 "metadata": {
  "kernelspec": {
   "display_name": "Python 3 (ipykernel)",
   "language": "python",
   "name": "python3"
  },
  "language_info": {
   "codemirror_mode": {
    "name": "ipython",
    "version": 3
   },
   "file_extension": ".py",
   "mimetype": "text/x-python",
   "name": "python",
   "nbconvert_exporter": "python",
   "pygments_lexer": "ipython3",
   "version": "3.9.7"
  }
 },
 "nbformat": 4,
 "nbformat_minor": 5
}
